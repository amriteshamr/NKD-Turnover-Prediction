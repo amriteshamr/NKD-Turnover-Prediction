{
 "cells": [
  {
   "cell_type": "markdown",
   "metadata": {},
   "source": [
    "## Load dataset"
   ]
  },
  {
   "cell_type": "code",
   "execution_count": 1,
   "metadata": {},
   "outputs": [
    {
     "data": {
      "text/html": [
       "<div>\n",
       "<style scoped>\n",
       "    .dataframe tbody tr th:only-of-type {\n",
       "        vertical-align: middle;\n",
       "    }\n",
       "\n",
       "    .dataframe tbody tr th {\n",
       "        vertical-align: top;\n",
       "    }\n",
       "\n",
       "    .dataframe thead th {\n",
       "        text-align: right;\n",
       "    }\n",
       "</style>\n",
       "<table border=\"1\" class=\"dataframe\">\n",
       "  <thead>\n",
       "    <tr style=\"text-align: right;\">\n",
       "      <th></th>\n",
       "      <th>date</th>\n",
       "      <th>store_no</th>\n",
       "      <th>region</th>\n",
       "      <th>city</th>\n",
       "      <th>postal</th>\n",
       "      <th>street</th>\n",
       "      <th>longitude</th>\n",
       "      <th>latitude</th>\n",
       "      <th>store_area</th>\n",
       "      <th>location_type</th>\n",
       "      <th>...</th>\n",
       "      <th>footfall</th>\n",
       "      <th>avg_temperature</th>\n",
       "      <th>min_temperature</th>\n",
       "      <th>max_temperature</th>\n",
       "      <th>precipitation_mm</th>\n",
       "      <th>snow_depth_mm</th>\n",
       "      <th>wind_direction_degrees</th>\n",
       "      <th>wind_speed_kmh</th>\n",
       "      <th>peak_wind_gust_kmh</th>\n",
       "      <th>air_pressure_hpa</th>\n",
       "    </tr>\n",
       "  </thead>\n",
       "  <tbody>\n",
       "    <tr>\n",
       "      <th>0</th>\n",
       "      <td>2021-02-12</td>\n",
       "      <td>2335</td>\n",
       "      <td>Bayern</td>\n",
       "      <td>Lauf</td>\n",
       "      <td>91207</td>\n",
       "      <td>Marktplatz 15</td>\n",
       "      <td>11.281178</td>\n",
       "      <td>49.511979</td>\n",
       "      <td>449.0</td>\n",
       "      <td>Fußgängerzone</td>\n",
       "      <td>...</td>\n",
       "      <td>NaN</td>\n",
       "      <td>-10.9</td>\n",
       "      <td>-18.0</td>\n",
       "      <td>-2.8</td>\n",
       "      <td>0.0</td>\n",
       "      <td>130.0</td>\n",
       "      <td>79.0</td>\n",
       "      <td>14.2</td>\n",
       "      <td>35.3</td>\n",
       "      <td>1033.1</td>\n",
       "    </tr>\n",
       "    <tr>\n",
       "      <th>1</th>\n",
       "      <td>2021-03-01</td>\n",
       "      <td>197</td>\n",
       "      <td>Rheinland-pfalz</td>\n",
       "      <td>Bitburg</td>\n",
       "      <td>54634</td>\n",
       "      <td>Trierer Str.19</td>\n",
       "      <td>6.523312</td>\n",
       "      <td>49.970275</td>\n",
       "      <td>263.0</td>\n",
       "      <td>Hauptgeschaeftsstrasse</td>\n",
       "      <td>...</td>\n",
       "      <td>NaN</td>\n",
       "      <td>6.6</td>\n",
       "      <td>0.5</td>\n",
       "      <td>14.0</td>\n",
       "      <td>0.0</td>\n",
       "      <td>NaN</td>\n",
       "      <td>73.0</td>\n",
       "      <td>13.1</td>\n",
       "      <td>NaN</td>\n",
       "      <td>1032.6</td>\n",
       "    </tr>\n",
       "    <tr>\n",
       "      <th>2</th>\n",
       "      <td>2021-03-01</td>\n",
       "      <td>441</td>\n",
       "      <td>Rheinland-pfalz</td>\n",
       "      <td>Annweiler</td>\n",
       "      <td>76855</td>\n",
       "      <td>Hauptstr. 35</td>\n",
       "      <td>7.963420</td>\n",
       "      <td>49.202622</td>\n",
       "      <td>350.0</td>\n",
       "      <td>Hauptgeschaeftsstrasse</td>\n",
       "      <td>...</td>\n",
       "      <td>NaN</td>\n",
       "      <td>7.4</td>\n",
       "      <td>2.4</td>\n",
       "      <td>12.8</td>\n",
       "      <td>0.0</td>\n",
       "      <td>0.0</td>\n",
       "      <td>45.0</td>\n",
       "      <td>12.5</td>\n",
       "      <td>NaN</td>\n",
       "      <td>1032.5</td>\n",
       "    </tr>\n",
       "    <tr>\n",
       "      <th>3</th>\n",
       "      <td>2021-03-01</td>\n",
       "      <td>632</td>\n",
       "      <td>Saarland</td>\n",
       "      <td>Lebach</td>\n",
       "      <td>66822</td>\n",
       "      <td>Am Markt 6</td>\n",
       "      <td>6.906569</td>\n",
       "      <td>49.411052</td>\n",
       "      <td>363.0</td>\n",
       "      <td>Fußgängerzone</td>\n",
       "      <td>...</td>\n",
       "      <td>3.0</td>\n",
       "      <td>5.8</td>\n",
       "      <td>0.6</td>\n",
       "      <td>12.1</td>\n",
       "      <td>0.0</td>\n",
       "      <td>0.0</td>\n",
       "      <td>74.0</td>\n",
       "      <td>13.9</td>\n",
       "      <td>41.4</td>\n",
       "      <td>1032.0</td>\n",
       "    </tr>\n",
       "    <tr>\n",
       "      <th>4</th>\n",
       "      <td>2021-03-01</td>\n",
       "      <td>1218</td>\n",
       "      <td>Rheinland-pfalz</td>\n",
       "      <td>Traben-Trarbach</td>\n",
       "      <td>56841</td>\n",
       "      <td>Poststr. 1 A</td>\n",
       "      <td>7.116635</td>\n",
       "      <td>49.950358</td>\n",
       "      <td>354.0</td>\n",
       "      <td>Hauptgeschaeftsstrasse</td>\n",
       "      <td>...</td>\n",
       "      <td>3.0</td>\n",
       "      <td>5.5</td>\n",
       "      <td>0.3</td>\n",
       "      <td>12.4</td>\n",
       "      <td>0.0</td>\n",
       "      <td>0.0</td>\n",
       "      <td>51.0</td>\n",
       "      <td>11.2</td>\n",
       "      <td>40.3</td>\n",
       "      <td>1033.0</td>\n",
       "    </tr>\n",
       "  </tbody>\n",
       "</table>\n",
       "<p>5 rows × 23 columns</p>\n",
       "</div>"
      ],
      "text/plain": [
       "         date  store_no           region             city  postal  \\\n",
       "0  2021-02-12      2335           Bayern             Lauf   91207   \n",
       "1  2021-03-01       197  Rheinland-pfalz          Bitburg   54634   \n",
       "2  2021-03-01       441  Rheinland-pfalz        Annweiler   76855   \n",
       "3  2021-03-01       632         Saarland           Lebach   66822   \n",
       "4  2021-03-01      1218  Rheinland-pfalz  Traben-Trarbach   56841   \n",
       "\n",
       "           street  longitude   latitude  store_area           location_type  \\\n",
       "0   Marktplatz 15  11.281178  49.511979       449.0           Fußgängerzone   \n",
       "1  Trierer Str.19   6.523312  49.970275       263.0  Hauptgeschaeftsstrasse   \n",
       "2    Hauptstr. 35   7.963420  49.202622       350.0  Hauptgeschaeftsstrasse   \n",
       "3      Am Markt 6   6.906569  49.411052       363.0           Fußgängerzone   \n",
       "4    Poststr. 1 A   7.116635  49.950358       354.0  Hauptgeschaeftsstrasse   \n",
       "\n",
       "   ...  footfall  avg_temperature  min_temperature  max_temperature  \\\n",
       "0  ...       NaN            -10.9            -18.0             -2.8   \n",
       "1  ...       NaN              6.6              0.5             14.0   \n",
       "2  ...       NaN              7.4              2.4             12.8   \n",
       "3  ...       3.0              5.8              0.6             12.1   \n",
       "4  ...       3.0              5.5              0.3             12.4   \n",
       "\n",
       "   precipitation_mm  snow_depth_mm  wind_direction_degrees  wind_speed_kmh  \\\n",
       "0               0.0          130.0                    79.0            14.2   \n",
       "1               0.0            NaN                    73.0            13.1   \n",
       "2               0.0            0.0                    45.0            12.5   \n",
       "3               0.0            0.0                    74.0            13.9   \n",
       "4               0.0            0.0                    51.0            11.2   \n",
       "\n",
       "   peak_wind_gust_kmh  air_pressure_hpa  \n",
       "0                35.3            1033.1  \n",
       "1                 NaN            1032.6  \n",
       "2                 NaN            1032.5  \n",
       "3                41.4            1032.0  \n",
       "4                40.3            1033.0  \n",
       "\n",
       "[5 rows x 23 columns]"
      ]
     },
     "execution_count": 1,
     "metadata": {},
     "output_type": "execute_result"
    }
   ],
   "source": [
    "import pandas as pd\n",
    "\n",
    "# Load the dataset\n",
    "file_path = 'store_data.csv'\n",
    "df = pd.read_csv(file_path)\n",
    "\n",
    "# Display the first few rows to inspect the dataset\n",
    "df.head()\n"
   ]
  },
  {
   "cell_type": "markdown",
   "metadata": {},
   "source": [
    "## Handling Missing Values"
   ]
  },
  {
   "cell_type": "code",
   "execution_count": 2,
   "metadata": {},
   "outputs": [
    {
     "name": "stdout",
     "output_type": "stream",
     "text": [
      "Missing values in 'footfall': 0\n"
     ]
    }
   ],
   "source": [
    "# Fill missing values in 'footfall' column using the median\n",
    "df['footfall'] = df['footfall'].fillna(df['footfall'].median())\n",
    "\n",
    "# Confirm that missing values are filled\n",
    "print(f\"Missing values in 'footfall': {df['footfall'].isnull().sum()}\")\n"
   ]
  },
  {
   "cell_type": "markdown",
   "metadata": {},
   "source": [
    "## Handling Outliers"
   ]
  },
  {
   "cell_type": "code",
   "execution_count": 3,
   "metadata": {},
   "outputs": [
    {
     "name": "stdout",
     "output_type": "stream",
     "text": [
      "            footfall       turnover\n",
      "count  414645.000000  414645.000000\n",
      "mean       19.512721     134.545291\n",
      "std         6.448615      53.635114\n",
      "min         2.000000      -4.101720\n",
      "25%        18.000000      97.487100\n",
      "50%        19.000000     129.456120\n",
      "75%        20.000000     165.893940\n",
      "max        43.000000     302.593027\n"
     ]
    }
   ],
   "source": [
    "# Handle outliers by capping extreme values at the 99th percentile\n",
    "for column in ['footfall', 'turnover']:\n",
    "    df[column] = df[column].clip(upper=df[column].quantile(0.99))\n",
    "\n",
    "# Confirm changes\n",
    "print(df[['footfall', 'turnover']].describe())\n"
   ]
  },
  {
   "cell_type": "markdown",
   "metadata": {},
   "source": []
  },
  {
   "cell_type": "markdown",
   "metadata": {},
   "source": [
    "## Add Features"
   ]
  },
  {
   "cell_type": "code",
   "execution_count": 4,
   "metadata": {},
   "outputs": [],
   "source": [
    "# Add interaction feature: store_area * footfall\n",
    "df['store_area_footfall'] = df['store_area'] * df['footfall']\n",
    "\n",
    "# Add month as a new feature\n",
    "df['month'] = pd.to_datetime(df['date']).dt.month\n",
    "\n",
    "# Group low-frequency cities into an 'Other' category\n",
    "top_cities = df['city'].value_counts().nlargest(50).index\n",
    "df['city'] = df['city'].apply(lambda x: x if x in top_cities else 'Other')\n"
   ]
  },
  {
   "cell_type": "markdown",
   "metadata": {},
   "source": [
    "## Define Features and targets"
   ]
  },
  {
   "cell_type": "code",
   "execution_count": 5,
   "metadata": {},
   "outputs": [],
   "source": [
    "# Updated feature set\n",
    "selected_features = [\n",
    "    'store_area', 'footfall', 'avg_temperature', 'city', \n",
    "    'precipitation_mm', 'air_pressure_hpa', 'wind_speed_kmh',\n",
    "    'store_area_footfall', 'month'\n",
    "]\n",
    "X = df[selected_features]\n",
    "y = df['turnover']\n"
   ]
  },
  {
   "cell_type": "markdown",
   "metadata": {},
   "source": [
    "## Preprocessing for LightGBM"
   ]
  },
  {
   "cell_type": "code",
   "execution_count": 7,
   "metadata": {},
   "outputs": [],
   "source": [
    "from sklearn.compose import ColumnTransformer\n",
    "from sklearn.preprocessing import OneHotEncoder\n",
    "from sklearn.impute import SimpleImputer\n",
    "from sklearn.pipeline import Pipeline\n",
    "from lightgbm import LGBMRegressor\n",
    "\n",
    "# Define preprocessing steps\n",
    "preprocessor = ColumnTransformer(\n",
    "    transformers=[\n",
    "        ('num', SimpleImputer(strategy='mean'), [\n",
    "            'store_area', 'footfall', 'avg_temperature', 'precipitation_mm',\n",
    "            'air_pressure_hpa', 'wind_speed_kmh', 'store_area_footfall', 'month'\n",
    "        ]),\n",
    "        ('cat', OneHotEncoder(handle_unknown='ignore', sparse_output=False), ['city'])\n",
    "    ]\n",
    ")\n",
    "\n",
    "# Define the LightGBM model\n",
    "lightgbm_model = LGBMRegressor(random_state=42, n_estimators=500, learning_rate=0.05)\n",
    "\n",
    "# Create the pipeline\n",
    "pipeline = Pipeline(steps=[\n",
    "    ('preprocessor', preprocessor),\n",
    "    ('model', lightgbm_model)\n",
    "])\n"
   ]
  },
  {
   "cell_type": "markdown",
   "metadata": {},
   "source": [
    "## Train and Evaluate LightGBM"
   ]
  },
  {
   "cell_type": "code",
   "execution_count": 8,
   "metadata": {},
   "outputs": [
    {
     "name": "stdout",
     "output_type": "stream",
     "text": [
      "[LightGBM] [Info] Auto-choosing col-wise multi-threading, the overhead of testing was 0.044528 seconds.\n",
      "You can set `force_col_wise=true` to remove the overhead.\n",
      "[LightGBM] [Info] Total Bins 1674\n",
      "[LightGBM] [Info] Number of data points in the train set: 331716, number of used features: 59\n",
      "[LightGBM] [Info] Start training from score 134.588988\n",
      "LightGBM Model Performance:\n",
      "MAE: 30.28\n",
      "RMSE: 39.56\n",
      "R² (Accuracy): 0.45\n"
     ]
    }
   ],
   "source": [
    "from sklearn.model_selection import train_test_split\n",
    "from sklearn.metrics import mean_absolute_error, mean_squared_error, r2_score\n",
    "import numpy as np\n",
    "\n",
    "# Split data into training and testing sets\n",
    "X_train, X_test, y_train, y_test = train_test_split(X, y, test_size=0.2, random_state=42)\n",
    "\n",
    "# Train the pipeline\n",
    "pipeline.fit(X_train, y_train)\n",
    "\n",
    "# Make predictions\n",
    "y_pred = pipeline.predict(X_test)\n",
    "\n",
    "# Evaluate the model\n",
    "mae = mean_absolute_error(y_test, y_pred)\n",
    "rmse = np.sqrt(mean_squared_error(y_test, y_pred))\n",
    "r2 = r2_score(y_test, y_pred)\n",
    "\n",
    "print(f\"LightGBM Model Performance:\\nMAE: {mae:.2f}\\nRMSE: {rmse:.2f}\\nR² (Accuracy): {r2:.2f}\")\n"
   ]
  },
  {
   "cell_type": "markdown",
   "metadata": {},
   "source": [
    "## Prepare data for LSTM"
   ]
  },
  {
   "cell_type": "code",
   "execution_count": 9,
   "metadata": {},
   "outputs": [],
   "source": [
    "from sklearn.preprocessing import MinMaxScaler\n",
    "import numpy as np\n",
    "\n",
    "# Select numerical features for LSTM\n",
    "numerical_features = ['store_area', 'footfall', 'avg_temperature', 'precipitation_mm',\n",
    "                      'air_pressure_hpa', 'wind_speed_kmh', 'store_area_footfall', 'month']\n",
    "\n",
    "# One-hot encode the city feature\n",
    "city_encoded = pd.get_dummies(df['city'], drop_first=True)\n",
    "\n",
    "# Combine numerical and encoded categorical features\n",
    "X_lstm = pd.concat([df[numerical_features], city_encoded], axis=1).values\n",
    "y_lstm = df['turnover'].values\n",
    "\n",
    "# Normalize features for LSTM\n",
    "scaler = MinMaxScaler()\n",
    "X_lstm_scaled = scaler.fit_transform(X_lstm)\n",
    "\n",
    "# Reshape for LSTM (samples, timesteps, features)\n",
    "X_lstm_scaled = X_lstm_scaled.reshape(X_lstm_scaled.shape[0], 1, X_lstm_scaled.shape[1])\n"
   ]
  },
  {
   "cell_type": "markdown",
   "metadata": {},
   "source": [
    "## Build and Train LSTM"
   ]
  },
  {
   "cell_type": "code",
   "execution_count": 10,
   "metadata": {},
   "outputs": [
    {
     "name": "stderr",
     "output_type": "stream",
     "text": [
      "c:\\Users\\amrit\\AppData\\Local\\Programs\\Python\\Python311\\Lib\\site-packages\\keras\\src\\layers\\rnn\\rnn.py:204: UserWarning: Do not pass an `input_shape`/`input_dim` argument to a layer. When using Sequential models, prefer using an `Input(shape)` object as the first layer in the model instead.\n",
      "  super().__init__(**kwargs)\n"
     ]
    },
    {
     "name": "stdout",
     "output_type": "stream",
     "text": [
      "Epoch 1/50\n",
      "\u001b[1m8293/8293\u001b[0m \u001b[32m━━━━━━━━━━━━━━━━━━━━\u001b[0m\u001b[37m\u001b[0m \u001b[1m20s\u001b[0m 2ms/step - loss: 12893.7480 - val_loss: 18830.7207\n",
      "Epoch 2/50\n",
      "\u001b[1m8293/8293\u001b[0m \u001b[32m━━━━━━━━━━━━━━━━━━━━\u001b[0m\u001b[37m\u001b[0m \u001b[1m16s\u001b[0m 2ms/step - loss: 18486.0117 - val_loss: 16825.3359\n",
      "Epoch 3/50\n",
      "\u001b[1m8293/8293\u001b[0m \u001b[32m━━━━━━━━━━━━━━━━━━━━\u001b[0m\u001b[37m\u001b[0m \u001b[1m17s\u001b[0m 2ms/step - loss: 16536.3906 - val_loss: 14957.3828\n",
      "Epoch 4/50\n",
      "\u001b[1m8293/8293\u001b[0m \u001b[32m━━━━━━━━━━━━━━━━━━━━\u001b[0m\u001b[37m\u001b[0m \u001b[1m17s\u001b[0m 2ms/step - loss: 14710.3535 - val_loss: 13224.4502\n",
      "Epoch 5/50\n",
      "\u001b[1m8293/8293\u001b[0m \u001b[32m━━━━━━━━━━━━━━━━━━━━\u001b[0m\u001b[37m\u001b[0m \u001b[1m17s\u001b[0m 2ms/step - loss: 12990.8799 - val_loss: 11628.5684\n",
      "Epoch 6/50\n",
      "\u001b[1m8293/8293\u001b[0m \u001b[32m━━━━━━━━━━━━━━━━━━━━\u001b[0m\u001b[37m\u001b[0m \u001b[1m17s\u001b[0m 2ms/step - loss: 11366.0908 - val_loss: 10167.6055\n",
      "Epoch 7/50\n",
      "\u001b[1m8293/8293\u001b[0m \u001b[32m━━━━━━━━━━━━━━━━━━━━\u001b[0m\u001b[37m\u001b[0m \u001b[1m17s\u001b[0m 2ms/step - loss: 9953.0469 - val_loss: 8842.5898\n",
      "Epoch 8/50\n",
      "\u001b[1m8293/8293\u001b[0m \u001b[32m━━━━━━━━━━━━━━━━━━━━\u001b[0m\u001b[37m\u001b[0m \u001b[1m17s\u001b[0m 2ms/step - loss: 8656.9873 - val_loss: 7654.2573\n",
      "Epoch 9/50\n",
      "\u001b[1m8293/8293\u001b[0m \u001b[32m━━━━━━━━━━━━━━━━━━━━\u001b[0m\u001b[37m\u001b[0m \u001b[1m17s\u001b[0m 2ms/step - loss: 7520.3594 - val_loss: 6601.3604\n",
      "Epoch 10/50\n",
      "\u001b[1m8293/8293\u001b[0m \u001b[32m━━━━━━━━━━━━━━━━━━━━\u001b[0m\u001b[37m\u001b[0m \u001b[1m17s\u001b[0m 2ms/step - loss: 6460.5708 - val_loss: 5682.6597\n",
      "Epoch 11/50\n",
      "\u001b[1m8293/8293\u001b[0m \u001b[32m━━━━━━━━━━━━━━━━━━━━\u001b[0m\u001b[37m\u001b[0m \u001b[1m17s\u001b[0m 2ms/step - loss: 5573.2998 - val_loss: 4898.7905\n",
      "Epoch 12/50\n",
      "\u001b[1m8293/8293\u001b[0m \u001b[32m━━━━━━━━━━━━━━━━━━━━\u001b[0m\u001b[37m\u001b[0m \u001b[1m18s\u001b[0m 2ms/step - loss: 4818.2656 - val_loss: 4249.7725\n",
      "Epoch 13/50\n",
      "\u001b[1m8293/8293\u001b[0m \u001b[32m━━━━━━━━━━━━━━━━━━━━\u001b[0m\u001b[37m\u001b[0m \u001b[1m18s\u001b[0m 2ms/step - loss: 4175.7700 - val_loss: 3733.7351\n",
      "Epoch 14/50\n",
      "\u001b[1m8293/8293\u001b[0m \u001b[32m━━━━━━━━━━━━━━━━━━━━\u001b[0m\u001b[37m\u001b[0m \u001b[1m19s\u001b[0m 2ms/step - loss: 3660.8018 - val_loss: 3346.9622\n",
      "Epoch 15/50\n",
      "\u001b[1m8293/8293\u001b[0m \u001b[32m━━━━━━━━━━━━━━━━━━━━\u001b[0m\u001b[37m\u001b[0m \u001b[1m19s\u001b[0m 2ms/step - loss: 3325.0244 - val_loss: 3087.8774\n",
      "Epoch 16/50\n",
      "\u001b[1m8293/8293\u001b[0m \u001b[32m━━━━━━━━━━━━━━━━━━━━\u001b[0m\u001b[37m\u001b[0m \u001b[1m17s\u001b[0m 2ms/step - loss: 3064.1118 - val_loss: 2943.9595\n",
      "Epoch 17/50\n",
      "\u001b[1m8293/8293\u001b[0m \u001b[32m━━━━━━━━━━━━━━━━━━━━\u001b[0m\u001b[37m\u001b[0m \u001b[1m18s\u001b[0m 2ms/step - loss: 2946.5864 - val_loss: 2888.2932\n",
      "Epoch 18/50\n",
      "\u001b[1m8293/8293\u001b[0m \u001b[32m━━━━━━━━━━━━━━━━━━━━\u001b[0m\u001b[37m\u001b[0m \u001b[1m18s\u001b[0m 2ms/step - loss: 2905.2437 - val_loss: 2875.4187\n",
      "Epoch 19/50\n",
      "\u001b[1m8293/8293\u001b[0m \u001b[32m━━━━━━━━━━━━━━━━━━━━\u001b[0m\u001b[37m\u001b[0m \u001b[1m20s\u001b[0m 2ms/step - loss: 2887.5862 - val_loss: 2873.8857\n",
      "Epoch 20/50\n",
      "\u001b[1m8293/8293\u001b[0m \u001b[32m━━━━━━━━━━━━━━━━━━━━\u001b[0m\u001b[37m\u001b[0m \u001b[1m19s\u001b[0m 2ms/step - loss: 2873.6409 - val_loss: 2874.0095\n",
      "Epoch 21/50\n",
      "\u001b[1m8293/8293\u001b[0m \u001b[32m━━━━━━━━━━━━━━━━━━━━\u001b[0m\u001b[37m\u001b[0m \u001b[1m19s\u001b[0m 2ms/step - loss: 2891.9126 - val_loss: 2874.2061\n",
      "Epoch 22/50\n",
      "\u001b[1m8293/8293\u001b[0m \u001b[32m━━━━━━━━━━━━━━━━━━━━\u001b[0m\u001b[37m\u001b[0m \u001b[1m17s\u001b[0m 2ms/step - loss: 2881.1541 - val_loss: 2874.3042\n",
      "Epoch 23/50\n",
      "\u001b[1m8293/8293\u001b[0m \u001b[32m━━━━━━━━━━━━━━━━━━━━\u001b[0m\u001b[37m\u001b[0m \u001b[1m19s\u001b[0m 2ms/step - loss: 2890.8503 - val_loss: 2874.3582\n",
      "Epoch 24/50\n",
      "\u001b[1m8293/8293\u001b[0m \u001b[32m━━━━━━━━━━━━━━━━━━━━\u001b[0m\u001b[37m\u001b[0m \u001b[1m18s\u001b[0m 2ms/step - loss: 2891.0366 - val_loss: 2874.3687\n",
      "Epoch 25/50\n",
      "\u001b[1m8293/8293\u001b[0m \u001b[32m━━━━━━━━━━━━━━━━━━━━\u001b[0m\u001b[37m\u001b[0m \u001b[1m17s\u001b[0m 2ms/step - loss: 2876.9617 - val_loss: 2874.3833\n",
      "Epoch 26/50\n",
      "\u001b[1m8293/8293\u001b[0m \u001b[32m━━━━━━━━━━━━━━━━━━━━\u001b[0m\u001b[37m\u001b[0m \u001b[1m20s\u001b[0m 2ms/step - loss: 2867.4048 - val_loss: 2874.4402\n",
      "Epoch 27/50\n",
      "\u001b[1m8293/8293\u001b[0m \u001b[32m━━━━━━━━━━━━━━━━━━━━\u001b[0m\u001b[37m\u001b[0m \u001b[1m18s\u001b[0m 2ms/step - loss: 2876.9016 - val_loss: 2874.4299\n",
      "Epoch 28/50\n",
      "\u001b[1m8293/8293\u001b[0m \u001b[32m━━━━━━━━━━━━━━━━━━━━\u001b[0m\u001b[37m\u001b[0m \u001b[1m19s\u001b[0m 2ms/step - loss: 2890.1921 - val_loss: 2874.4358\n",
      "Epoch 29/50\n",
      "\u001b[1m8293/8293\u001b[0m \u001b[32m━━━━━━━━━━━━━━━━━━━━\u001b[0m\u001b[37m\u001b[0m \u001b[1m19s\u001b[0m 2ms/step - loss: 2886.7844 - val_loss: 2874.4275\n",
      "Epoch 30/50\n",
      "\u001b[1m8293/8293\u001b[0m \u001b[32m━━━━━━━━━━━━━━━━━━━━\u001b[0m\u001b[37m\u001b[0m \u001b[1m18s\u001b[0m 2ms/step - loss: 2874.0977 - val_loss: 2874.4644\n",
      "Epoch 31/50\n",
      "\u001b[1m8293/8293\u001b[0m \u001b[32m━━━━━━━━━━━━━━━━━━━━\u001b[0m\u001b[37m\u001b[0m \u001b[1m20s\u001b[0m 2ms/step - loss: 2903.8420 - val_loss: 2874.4077\n",
      "Epoch 32/50\n",
      "\u001b[1m8293/8293\u001b[0m \u001b[32m━━━━━━━━━━━━━━━━━━━━\u001b[0m\u001b[37m\u001b[0m \u001b[1m18s\u001b[0m 2ms/step - loss: 2876.2883 - val_loss: 2874.3987\n",
      "Epoch 33/50\n",
      "\u001b[1m8293/8293\u001b[0m \u001b[32m━━━━━━━━━━━━━━━━━━━━\u001b[0m\u001b[37m\u001b[0m \u001b[1m18s\u001b[0m 2ms/step - loss: 2867.1360 - val_loss: 2874.4412\n",
      "Epoch 34/50\n",
      "\u001b[1m8293/8293\u001b[0m \u001b[32m━━━━━━━━━━━━━━━━━━━━\u001b[0m\u001b[37m\u001b[0m \u001b[1m20s\u001b[0m 2ms/step - loss: 2886.4431 - val_loss: 2874.4207\n",
      "Epoch 35/50\n",
      "\u001b[1m8293/8293\u001b[0m \u001b[32m━━━━━━━━━━━━━━━━━━━━\u001b[0m\u001b[37m\u001b[0m \u001b[1m19s\u001b[0m 2ms/step - loss: 2874.6594 - val_loss: 2874.4202\n",
      "Epoch 36/50\n",
      "\u001b[1m8293/8293\u001b[0m \u001b[32m━━━━━━━━━━━━━━━━━━━━\u001b[0m\u001b[37m\u001b[0m \u001b[1m21s\u001b[0m 3ms/step - loss: 2880.1321 - val_loss: 2874.4084\n",
      "Epoch 37/50\n",
      "\u001b[1m8293/8293\u001b[0m \u001b[32m━━━━━━━━━━━━━━━━━━━━\u001b[0m\u001b[37m\u001b[0m \u001b[1m19s\u001b[0m 2ms/step - loss: 2898.7856 - val_loss: 2874.3984\n",
      "Epoch 38/50\n",
      "\u001b[1m8293/8293\u001b[0m \u001b[32m━━━━━━━━━━━━━━━━━━━━\u001b[0m\u001b[37m\u001b[0m \u001b[1m19s\u001b[0m 2ms/step - loss: 2889.0596 - val_loss: 2874.4128\n",
      "Epoch 39/50\n",
      "\u001b[1m8293/8293\u001b[0m \u001b[32m━━━━━━━━━━━━━━━━━━━━\u001b[0m\u001b[37m\u001b[0m \u001b[1m18s\u001b[0m 2ms/step - loss: 2875.4419 - val_loss: 2874.4241\n",
      "Epoch 40/50\n",
      "\u001b[1m8293/8293\u001b[0m \u001b[32m━━━━━━━━━━━━━━━━━━━━\u001b[0m\u001b[37m\u001b[0m \u001b[1m19s\u001b[0m 2ms/step - loss: 2877.3518 - val_loss: 2874.4060\n",
      "Epoch 41/50\n",
      "\u001b[1m8293/8293\u001b[0m \u001b[32m━━━━━━━━━━━━━━━━━━━━\u001b[0m\u001b[37m\u001b[0m \u001b[1m18s\u001b[0m 2ms/step - loss: 2903.2129 - val_loss: 2874.3992\n",
      "Epoch 42/50\n",
      "\u001b[1m8293/8293\u001b[0m \u001b[32m━━━━━━━━━━━━━━━━━━━━\u001b[0m\u001b[37m\u001b[0m \u001b[1m19s\u001b[0m 2ms/step - loss: 2875.8247 - val_loss: 2874.3752\n",
      "Epoch 43/50\n",
      "\u001b[1m8293/8293\u001b[0m \u001b[32m━━━━━━━━━━━━━━━━━━━━\u001b[0m\u001b[37m\u001b[0m \u001b[1m19s\u001b[0m 2ms/step - loss: 2867.1152 - val_loss: 2874.3970\n",
      "Epoch 44/50\n",
      "\u001b[1m8293/8293\u001b[0m \u001b[32m━━━━━━━━━━━━━━━━━━━━\u001b[0m\u001b[37m\u001b[0m \u001b[1m20s\u001b[0m 2ms/step - loss: 2885.2949 - val_loss: 2874.4011\n",
      "Epoch 45/50\n",
      "\u001b[1m8293/8293\u001b[0m \u001b[32m━━━━━━━━━━━━━━━━━━━━\u001b[0m\u001b[37m\u001b[0m \u001b[1m18s\u001b[0m 2ms/step - loss: 2855.1655 - val_loss: 2874.4065\n",
      "Epoch 46/50\n",
      "\u001b[1m8293/8293\u001b[0m \u001b[32m━━━━━━━━━━━━━━━━━━━━\u001b[0m\u001b[37m\u001b[0m \u001b[1m19s\u001b[0m 2ms/step - loss: 2886.1270 - val_loss: 2874.4211\n",
      "Epoch 47/50\n",
      "\u001b[1m8293/8293\u001b[0m \u001b[32m━━━━━━━━━━━━━━━━━━━━\u001b[0m\u001b[37m\u001b[0m \u001b[1m19s\u001b[0m 2ms/step - loss: 2859.3674 - val_loss: 2874.3752\n",
      "Epoch 48/50\n",
      "\u001b[1m8293/8293\u001b[0m \u001b[32m━━━━━━━━━━━━━━━━━━━━\u001b[0m\u001b[37m\u001b[0m \u001b[1m17s\u001b[0m 2ms/step - loss: 2886.3777 - val_loss: 2874.4167\n",
      "Epoch 49/50\n",
      "\u001b[1m8293/8293\u001b[0m \u001b[32m━━━━━━━━━━━━━━━━━━━━\u001b[0m\u001b[37m\u001b[0m \u001b[1m19s\u001b[0m 2ms/step - loss: 2862.2676 - val_loss: 2874.4080\n",
      "Epoch 50/50\n",
      "\u001b[1m8293/8293\u001b[0m \u001b[32m━━━━━━━━━━━━━━━━━━━━\u001b[0m\u001b[37m\u001b[0m \u001b[1m18s\u001b[0m 2ms/step - loss: 2901.0735 - val_loss: 2874.3979\n"
     ]
    }
   ],
   "source": [
    "from tensorflow.keras.models import Sequential\n",
    "from tensorflow.keras.layers import Dense, LSTM, Dropout\n",
    "\n",
    "# Define LSTM model\n",
    "lstm_model = Sequential()\n",
    "lstm_model.add(LSTM(units=64, activation='relu', input_shape=(1, X_lstm_scaled.shape[2])))\n",
    "lstm_model.add(Dropout(0.2))\n",
    "lstm_model.add(Dense(units=32, activation='relu'))\n",
    "lstm_model.add(Dense(units=1))  # Output layer for regression\n",
    "\n",
    "# Compile the model\n",
    "lstm_model.compile(optimizer='adam', loss='mean_squared_error')\n",
    "\n",
    "# Split data for training and testing\n",
    "X_train_lstm, X_test_lstm, y_train_lstm, y_test_lstm = train_test_split(\n",
    "    X_lstm_scaled, y_lstm, test_size=0.2, random_state=42\n",
    ")\n",
    "\n",
    "# Train the model\n",
    "history = lstm_model.fit(X_train_lstm, y_train_lstm, epochs=50, batch_size=32, validation_split=0.2, verbose=1)\n"
   ]
  },
  {
   "cell_type": "markdown",
   "metadata": {},
   "source": [
    "## Evaluate LSTM"
   ]
  },
  {
   "cell_type": "code",
   "execution_count": null,
   "metadata": {},
   "outputs": [
    {
     "name": "stdout",
     "output_type": "stream",
     "text": [
      "\u001b[1m2592/2592\u001b[0m \u001b[32m━━━━━━━━━━━━━━━━━━━━\u001b[0m\u001b[37m\u001b[0m \u001b[1m4s\u001b[0m 2ms/step\n",
      "LSTM Model Performance:\n",
      "MAE: 115.46\n",
      "RMSE: 127.17\n",
      "R² (Accuracy): -4.65\n"
     ]
    }
   ],
   "source": [
    "# Make predictions\n",
    "y_pred_lstm = lstm_model.predict(X_test_lstm)\n",
    "\n",
    "# Evaluate LSTM model\n",
    "mae = mean_absolute_error(y_test_lstm, y_pred_lstm)\n",
    "rmse = np.sqrt(mean_squared_error(y_test_lstm, y_pred_lstm))\n",
    "r2 = r2_score(y_test_lstm, y_pred_lstm)\n",
    "\n",
    "print(f\"LSTM Model Performance:\\nMAE: {mae:.2f}\\nRMSE: {rmse:.2f}\\nR² (Accuracy): {r2:.2f}\")\n"
   ]
  },
  {
   "cell_type": "code",
   "execution_count": null,
   "metadata": {},
   "outputs": [],
   "source": []
  }
 ],
 "metadata": {
  "kernelspec": {
   "display_name": "Python 3",
   "language": "python",
   "name": "python3"
  },
  "language_info": {
   "codemirror_mode": {
    "name": "ipython",
    "version": 3
   },
   "file_extension": ".py",
   "mimetype": "text/x-python",
   "name": "python",
   "nbconvert_exporter": "python",
   "pygments_lexer": "ipython3",
   "version": "3.11.4"
  }
 },
 "nbformat": 4,
 "nbformat_minor": 2
}
