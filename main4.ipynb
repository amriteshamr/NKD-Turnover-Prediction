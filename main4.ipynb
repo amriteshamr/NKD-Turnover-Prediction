{
 "cells": [
  {
   "cell_type": "markdown",
   "metadata": {},
   "source": [
    "## Loading the Dataset"
   ]
  },
  {
   "cell_type": "code",
   "execution_count": 1,
   "metadata": {},
   "outputs": [
    {
     "data": {
      "text/html": [
       "<div>\n",
       "<style scoped>\n",
       "    .dataframe tbody tr th:only-of-type {\n",
       "        vertical-align: middle;\n",
       "    }\n",
       "\n",
       "    .dataframe tbody tr th {\n",
       "        vertical-align: top;\n",
       "    }\n",
       "\n",
       "    .dataframe thead th {\n",
       "        text-align: right;\n",
       "    }\n",
       "</style>\n",
       "<table border=\"1\" class=\"dataframe\">\n",
       "  <thead>\n",
       "    <tr style=\"text-align: right;\">\n",
       "      <th></th>\n",
       "      <th>date</th>\n",
       "      <th>store_no</th>\n",
       "      <th>region</th>\n",
       "      <th>city</th>\n",
       "      <th>postal</th>\n",
       "      <th>street</th>\n",
       "      <th>longitude</th>\n",
       "      <th>latitude</th>\n",
       "      <th>store_area</th>\n",
       "      <th>location_type</th>\n",
       "      <th>...</th>\n",
       "      <th>footfall</th>\n",
       "      <th>avg_temperature</th>\n",
       "      <th>min_temperature</th>\n",
       "      <th>max_temperature</th>\n",
       "      <th>precipitation_mm</th>\n",
       "      <th>snow_depth_mm</th>\n",
       "      <th>wind_direction_degrees</th>\n",
       "      <th>wind_speed_kmh</th>\n",
       "      <th>peak_wind_gust_kmh</th>\n",
       "      <th>air_pressure_hpa</th>\n",
       "    </tr>\n",
       "  </thead>\n",
       "  <tbody>\n",
       "    <tr>\n",
       "      <th>0</th>\n",
       "      <td>2021-02-12</td>\n",
       "      <td>2335</td>\n",
       "      <td>Bayern</td>\n",
       "      <td>Lauf</td>\n",
       "      <td>91207</td>\n",
       "      <td>Marktplatz 15</td>\n",
       "      <td>11.281178</td>\n",
       "      <td>49.511979</td>\n",
       "      <td>449.0</td>\n",
       "      <td>Fußgängerzone</td>\n",
       "      <td>...</td>\n",
       "      <td>NaN</td>\n",
       "      <td>-10.9</td>\n",
       "      <td>-18.0</td>\n",
       "      <td>-2.8</td>\n",
       "      <td>0.0</td>\n",
       "      <td>130.0</td>\n",
       "      <td>79.0</td>\n",
       "      <td>14.2</td>\n",
       "      <td>35.3</td>\n",
       "      <td>1033.1</td>\n",
       "    </tr>\n",
       "    <tr>\n",
       "      <th>1</th>\n",
       "      <td>2021-03-01</td>\n",
       "      <td>197</td>\n",
       "      <td>Rheinland-pfalz</td>\n",
       "      <td>Bitburg</td>\n",
       "      <td>54634</td>\n",
       "      <td>Trierer Str.19</td>\n",
       "      <td>6.523312</td>\n",
       "      <td>49.970275</td>\n",
       "      <td>263.0</td>\n",
       "      <td>Hauptgeschaeftsstrasse</td>\n",
       "      <td>...</td>\n",
       "      <td>NaN</td>\n",
       "      <td>6.6</td>\n",
       "      <td>0.5</td>\n",
       "      <td>14.0</td>\n",
       "      <td>0.0</td>\n",
       "      <td>NaN</td>\n",
       "      <td>73.0</td>\n",
       "      <td>13.1</td>\n",
       "      <td>NaN</td>\n",
       "      <td>1032.6</td>\n",
       "    </tr>\n",
       "    <tr>\n",
       "      <th>2</th>\n",
       "      <td>2021-03-01</td>\n",
       "      <td>441</td>\n",
       "      <td>Rheinland-pfalz</td>\n",
       "      <td>Annweiler</td>\n",
       "      <td>76855</td>\n",
       "      <td>Hauptstr. 35</td>\n",
       "      <td>7.963420</td>\n",
       "      <td>49.202622</td>\n",
       "      <td>350.0</td>\n",
       "      <td>Hauptgeschaeftsstrasse</td>\n",
       "      <td>...</td>\n",
       "      <td>NaN</td>\n",
       "      <td>7.4</td>\n",
       "      <td>2.4</td>\n",
       "      <td>12.8</td>\n",
       "      <td>0.0</td>\n",
       "      <td>0.0</td>\n",
       "      <td>45.0</td>\n",
       "      <td>12.5</td>\n",
       "      <td>NaN</td>\n",
       "      <td>1032.5</td>\n",
       "    </tr>\n",
       "    <tr>\n",
       "      <th>3</th>\n",
       "      <td>2021-03-01</td>\n",
       "      <td>632</td>\n",
       "      <td>Saarland</td>\n",
       "      <td>Lebach</td>\n",
       "      <td>66822</td>\n",
       "      <td>Am Markt 6</td>\n",
       "      <td>6.906569</td>\n",
       "      <td>49.411052</td>\n",
       "      <td>363.0</td>\n",
       "      <td>Fußgängerzone</td>\n",
       "      <td>...</td>\n",
       "      <td>3.0</td>\n",
       "      <td>5.8</td>\n",
       "      <td>0.6</td>\n",
       "      <td>12.1</td>\n",
       "      <td>0.0</td>\n",
       "      <td>0.0</td>\n",
       "      <td>74.0</td>\n",
       "      <td>13.9</td>\n",
       "      <td>41.4</td>\n",
       "      <td>1032.0</td>\n",
       "    </tr>\n",
       "    <tr>\n",
       "      <th>4</th>\n",
       "      <td>2021-03-01</td>\n",
       "      <td>1218</td>\n",
       "      <td>Rheinland-pfalz</td>\n",
       "      <td>Traben-Trarbach</td>\n",
       "      <td>56841</td>\n",
       "      <td>Poststr. 1 A</td>\n",
       "      <td>7.116635</td>\n",
       "      <td>49.950358</td>\n",
       "      <td>354.0</td>\n",
       "      <td>Hauptgeschaeftsstrasse</td>\n",
       "      <td>...</td>\n",
       "      <td>3.0</td>\n",
       "      <td>5.5</td>\n",
       "      <td>0.3</td>\n",
       "      <td>12.4</td>\n",
       "      <td>0.0</td>\n",
       "      <td>0.0</td>\n",
       "      <td>51.0</td>\n",
       "      <td>11.2</td>\n",
       "      <td>40.3</td>\n",
       "      <td>1033.0</td>\n",
       "    </tr>\n",
       "  </tbody>\n",
       "</table>\n",
       "<p>5 rows × 23 columns</p>\n",
       "</div>"
      ],
      "text/plain": [
       "         date  store_no           region             city  postal  \\\n",
       "0  2021-02-12      2335           Bayern             Lauf   91207   \n",
       "1  2021-03-01       197  Rheinland-pfalz          Bitburg   54634   \n",
       "2  2021-03-01       441  Rheinland-pfalz        Annweiler   76855   \n",
       "3  2021-03-01       632         Saarland           Lebach   66822   \n",
       "4  2021-03-01      1218  Rheinland-pfalz  Traben-Trarbach   56841   \n",
       "\n",
       "           street  longitude   latitude  store_area           location_type  \\\n",
       "0   Marktplatz 15  11.281178  49.511979       449.0           Fußgängerzone   \n",
       "1  Trierer Str.19   6.523312  49.970275       263.0  Hauptgeschaeftsstrasse   \n",
       "2    Hauptstr. 35   7.963420  49.202622       350.0  Hauptgeschaeftsstrasse   \n",
       "3      Am Markt 6   6.906569  49.411052       363.0           Fußgängerzone   \n",
       "4    Poststr. 1 A   7.116635  49.950358       354.0  Hauptgeschaeftsstrasse   \n",
       "\n",
       "   ...  footfall  avg_temperature  min_temperature  max_temperature  \\\n",
       "0  ...       NaN            -10.9            -18.0             -2.8   \n",
       "1  ...       NaN              6.6              0.5             14.0   \n",
       "2  ...       NaN              7.4              2.4             12.8   \n",
       "3  ...       3.0              5.8              0.6             12.1   \n",
       "4  ...       3.0              5.5              0.3             12.4   \n",
       "\n",
       "   precipitation_mm  snow_depth_mm  wind_direction_degrees  wind_speed_kmh  \\\n",
       "0               0.0          130.0                    79.0            14.2   \n",
       "1               0.0            NaN                    73.0            13.1   \n",
       "2               0.0            0.0                    45.0            12.5   \n",
       "3               0.0            0.0                    74.0            13.9   \n",
       "4               0.0            0.0                    51.0            11.2   \n",
       "\n",
       "   peak_wind_gust_kmh  air_pressure_hpa  \n",
       "0                35.3            1033.1  \n",
       "1                 NaN            1032.6  \n",
       "2                 NaN            1032.5  \n",
       "3                41.4            1032.0  \n",
       "4                40.3            1033.0  \n",
       "\n",
       "[5 rows x 23 columns]"
      ]
     },
     "execution_count": 1,
     "metadata": {},
     "output_type": "execute_result"
    }
   ],
   "source": [
    "import pandas as pd\n",
    "\n",
    "# Load the dataset\n",
    "file_path = 'store_data.csv'\n",
    "df = pd.read_csv(file_path)\n",
    "\n",
    "# Display the first few rows to inspect the dataset\n",
    "df.head()\n"
   ]
  },
  {
   "cell_type": "markdown",
   "metadata": {},
   "source": [
    "## Handling Missing Values"
   ]
  },
  {
   "cell_type": "code",
   "execution_count": null,
   "metadata": {},
   "outputs": [
    {
     "name": "stdout",
     "output_type": "stream",
     "text": [
      "Missing values in 'footfall': 0\n"
     ]
    }
   ],
   "source": [
    "# Fill missing values in 'footfall' column using the median\n",
    "df['footfall'] = df['footfall'].fillna(df['footfall'].median()) \n",
    "\n",
    "# Confirm that missing values are filled\n",
    "print(f\"Missing values in 'footfall': {df['footfall'].isnull().sum()}\")\n"
   ]
  },
  {
   "cell_type": "markdown",
   "metadata": {},
   "source": [
    "## Handling Outliers"
   ]
  },
  {
   "cell_type": "code",
   "execution_count": 3,
   "metadata": {},
   "outputs": [
    {
     "name": "stdout",
     "output_type": "stream",
     "text": [
      "            footfall       turnover\n",
      "count  414645.000000  414645.000000\n",
      "mean       19.512721     134.545291\n",
      "std         6.448615      53.635114\n",
      "min         2.000000      -4.101720\n",
      "25%        18.000000      97.487100\n",
      "50%        19.000000     129.456120\n",
      "75%        20.000000     165.893940\n",
      "max        43.000000     302.593027\n"
     ]
    }
   ],
   "source": [
    "# Handle outliers by capping extreme values at the 99th percentile\n",
    "for column in ['footfall', 'turnover']:\n",
    "    df[column] = df[column].clip(upper=df[column].quantile(0.99))\n",
    "\n",
    "# Confirm changes\n",
    "print(df[['footfall', 'turnover']].describe())\n"
   ]
  },
  {
   "cell_type": "markdown",
   "metadata": {},
   "source": [
    "## Adding new features"
   ]
  },
  {
   "cell_type": "code",
   "execution_count": 4,
   "metadata": {},
   "outputs": [],
   "source": [
    "# Add interaction feature: store_area * footfall\n",
    "df['store_area_footfall'] = df['store_area'] * df['footfall']\n",
    "\n",
    "# Add month as a new feature\n",
    "df['month'] = pd.to_datetime(df['date']).dt.month\n",
    "\n",
    "# Group low-frequency cities into an 'Other' category\n",
    "top_cities = df['city'].value_counts().nlargest(50).index\n",
    "df['city'] = df['city'].apply(lambda x: x if x in top_cities else 'Other')\n"
   ]
  },
  {
   "cell_type": "markdown",
   "metadata": {},
   "source": [
    "##  Define Features and Target"
   ]
  },
  {
   "cell_type": "code",
   "execution_count": 5,
   "metadata": {},
   "outputs": [],
   "source": [
    "# Updated feature set with new interaction terms\n",
    "selected_features = [\n",
    "    'store_area', 'footfall', 'avg_temperature', 'city', \n",
    "    'precipitation_mm', 'air_pressure_hpa', 'wind_speed_kmh',\n",
    "    'store_area_footfall', 'month'\n",
    "]\n",
    "X = df[selected_features]\n",
    "y = df['turnover']\n"
   ]
  },
  {
   "cell_type": "markdown",
   "metadata": {},
   "source": [
    "## Preprocessing and Model Pipeline"
   ]
  },
  {
   "cell_type": "code",
   "execution_count": 6,
   "metadata": {},
   "outputs": [],
   "source": [
    "from sklearn.compose import ColumnTransformer\n",
    "from sklearn.preprocessing import OneHotEncoder\n",
    "from sklearn.impute import SimpleImputer\n",
    "from sklearn.pipeline import Pipeline\n",
    "import xgboost as xgb\n",
    "\n",
    "# Define preprocessing steps\n",
    "preprocessor = ColumnTransformer(\n",
    "    transformers=[\n",
    "        ('num', SimpleImputer(strategy='mean'), [\n",
    "            'store_area', 'footfall', 'avg_temperature', 'precipitation_mm',\n",
    "            'air_pressure_hpa', 'wind_speed_kmh', 'store_area_footfall', 'month'\n",
    "        ]),\n",
    "        ('cat', OneHotEncoder(handle_unknown='ignore', sparse_output=True), ['city'])\n",
    "    ]\n",
    ")\n",
    "\n",
    "# Define the XGBoost model\n",
    "xgboost_model = xgb.XGBRegressor(random_state=42)\n",
    "\n",
    "# Create the pipeline\n",
    "pipeline = Pipeline(steps=[\n",
    "    ('preprocessor', preprocessor),\n",
    "    ('model', xgboost_model)\n",
    "])\n"
   ]
  },
  {
   "cell_type": "markdown",
   "metadata": {},
   "source": [
    "## Perform Hyperparameter Tuning"
   ]
  },
  {
   "cell_type": "code",
   "execution_count": 7,
   "metadata": {},
   "outputs": [
    {
     "name": "stderr",
     "output_type": "stream",
     "text": [
      "c:\\Users\\amrit\\AppData\\Local\\Programs\\Python\\Python311\\Lib\\site-packages\\sklearn\\model_selection\\_validation.py:540: FitFailedWarning: \n",
      "2 fits failed out of a total of 60.\n",
      "The score on these train-test partitions for these parameters will be set to nan.\n",
      "If these failures are not expected, you can try to debug them by setting error_score='raise'.\n",
      "\n",
      "Below are more details about the failures:\n",
      "--------------------------------------------------------------------------------\n",
      "2 fits failed with the following error:\n",
      "Traceback (most recent call last):\n",
      "  File \"c:\\Users\\amrit\\AppData\\Local\\Programs\\Python\\Python311\\Lib\\site-packages\\sklearn\\model_selection\\_validation.py\", line 888, in _fit_and_score\n",
      "    estimator.fit(X_train, y_train, **fit_params)\n",
      "  File \"c:\\Users\\amrit\\AppData\\Local\\Programs\\Python\\Python311\\Lib\\site-packages\\sklearn\\base.py\", line 1473, in wrapper\n",
      "    return fit_method(estimator, *args, **kwargs)\n",
      "           ^^^^^^^^^^^^^^^^^^^^^^^^^^^^^^^^^^^^^^\n",
      "  File \"c:\\Users\\amrit\\AppData\\Local\\Programs\\Python\\Python311\\Lib\\site-packages\\sklearn\\pipeline.py\", line 473, in fit\n",
      "    self._final_estimator.fit(Xt, y, **last_step_params[\"fit\"])\n",
      "  File \"c:\\Users\\amrit\\AppData\\Local\\Programs\\Python\\Python311\\Lib\\site-packages\\xgboost\\core.py\", line 726, in inner_f\n",
      "    return func(**kwargs)\n",
      "           ^^^^^^^^^^^^^^\n",
      "  File \"c:\\Users\\amrit\\AppData\\Local\\Programs\\Python\\Python311\\Lib\\site-packages\\xgboost\\sklearn.py\", line 1081, in fit\n",
      "    train_dmatrix, evals = _wrap_evaluation_matrices(\n",
      "                           ^^^^^^^^^^^^^^^^^^^^^^^^^^\n",
      "  File \"c:\\Users\\amrit\\AppData\\Local\\Programs\\Python\\Python311\\Lib\\site-packages\\xgboost\\sklearn.py\", line 596, in _wrap_evaluation_matrices\n",
      "    train_dmatrix = create_dmatrix(\n",
      "                    ^^^^^^^^^^^^^^^\n",
      "  File \"c:\\Users\\amrit\\AppData\\Local\\Programs\\Python\\Python311\\Lib\\site-packages\\xgboost\\sklearn.py\", line 1003, in _create_dmatrix\n",
      "    return QuantileDMatrix(\n",
      "           ^^^^^^^^^^^^^^^^\n",
      "  File \"c:\\Users\\amrit\\AppData\\Local\\Programs\\Python\\Python311\\Lib\\site-packages\\xgboost\\core.py\", line 726, in inner_f\n",
      "    return func(**kwargs)\n",
      "           ^^^^^^^^^^^^^^\n",
      "  File \"c:\\Users\\amrit\\AppData\\Local\\Programs\\Python\\Python311\\Lib\\site-packages\\xgboost\\core.py\", line 1573, in __init__\n",
      "    self._init(\n",
      "  File \"c:\\Users\\amrit\\AppData\\Local\\Programs\\Python\\Python311\\Lib\\site-packages\\xgboost\\core.py\", line 1632, in _init\n",
      "    it.reraise()\n",
      "  File \"c:\\Users\\amrit\\AppData\\Local\\Programs\\Python\\Python311\\Lib\\site-packages\\xgboost\\core.py\", line 569, in reraise\n",
      "    raise exc  # pylint: disable=raising-bad-type\n",
      "    ^^^^^^^^^\n",
      "  File \"c:\\Users\\amrit\\AppData\\Local\\Programs\\Python\\Python311\\Lib\\site-packages\\xgboost\\core.py\", line 550, in _handle_exception\n",
      "    return fn()\n",
      "           ^^^^\n",
      "  File \"c:\\Users\\amrit\\AppData\\Local\\Programs\\Python\\Python311\\Lib\\site-packages\\xgboost\\core.py\", line 637, in <lambda>\n",
      "    return self._handle_exception(lambda: self.next(input_data), 0)\n",
      "                                          ^^^^^^^^^^^^^^^^^^^^^\n",
      "  File \"c:\\Users\\amrit\\AppData\\Local\\Programs\\Python\\Python311\\Lib\\site-packages\\xgboost\\data.py\", line 1402, in next\n",
      "    input_data(**self.kwargs)\n",
      "  File \"c:\\Users\\amrit\\AppData\\Local\\Programs\\Python\\Python311\\Lib\\site-packages\\xgboost\\core.py\", line 726, in inner_f\n",
      "    return func(**kwargs)\n",
      "           ^^^^^^^^^^^^^^\n",
      "  File \"c:\\Users\\amrit\\AppData\\Local\\Programs\\Python\\Python311\\Lib\\site-packages\\xgboost\\core.py\", line 626, in input_data\n",
      "    self.proxy.set_info(\n",
      "  File \"c:\\Users\\amrit\\AppData\\Local\\Programs\\Python\\Python311\\Lib\\site-packages\\xgboost\\core.py\", line 726, in inner_f\n",
      "    return func(**kwargs)\n",
      "           ^^^^^^^^^^^^^^\n",
      "  File \"c:\\Users\\amrit\\AppData\\Local\\Programs\\Python\\Python311\\Lib\\site-packages\\xgboost\\core.py\", line 954, in set_info\n",
      "    self.set_label(label)\n",
      "  File \"c:\\Users\\amrit\\AppData\\Local\\Programs\\Python\\Python311\\Lib\\site-packages\\xgboost\\core.py\", line 1092, in set_label\n",
      "    dispatch_meta_backend(self, label, \"label\", \"float\")\n",
      "  File \"c:\\Users\\amrit\\AppData\\Local\\Programs\\Python\\Python311\\Lib\\site-packages\\xgboost\\data.py\", line 1348, in dispatch_meta_backend\n",
      "    _meta_from_pandas_series(data, name, dtype, handle)\n",
      "  File \"c:\\Users\\amrit\\AppData\\Local\\Programs\\Python\\Python311\\Lib\\site-packages\\xgboost\\data.py\", line 679, in _meta_from_pandas_series\n",
      "    _meta_from_numpy(data, name, dtype, handle)\n",
      "  File \"c:\\Users\\amrit\\AppData\\Local\\Programs\\Python\\Python311\\Lib\\site-packages\\xgboost\\data.py\", line 1279, in _meta_from_numpy\n",
      "    _check_call(_LIB.XGDMatrixSetInfoFromInterface(handle, c_str(field), interface_str))\n",
      "  File \"c:\\Users\\amrit\\AppData\\Local\\Programs\\Python\\Python311\\Lib\\site-packages\\xgboost\\core.py\", line 284, in _check_call\n",
      "    raise XGBoostError(py_str(_LIB.XGBGetLastError()))\n",
      "xgboost.core.XGBoostError: [21:29:33] C:\\buildkite-agent\\builds\\buildkite-windows-cpu-autoscaling-group-i-0c55ff5f71b100e98-1\\xgboost\\xgboost-ci-windows\\src\\data\\array_interface.cu:44: Check failed: err == cudaGetLastError() (0 vs. 46) : \n",
      "\n",
      "  warnings.warn(some_fits_failed_message, FitFailedWarning)\n",
      "c:\\Users\\amrit\\AppData\\Local\\Programs\\Python\\Python311\\Lib\\site-packages\\sklearn\\model_selection\\_search.py:1103: UserWarning: One or more of the test scores are non-finite: [       nan        nan 0.37962495 0.40663714 0.28064112 0.27429797\n",
      " 0.30075124 0.32528526 0.4432975  0.32509192 0.32659693 0.49525485\n",
      " 0.43115282 0.40602855 0.46919721 0.34626035 0.47606919 0.38209684\n",
      " 0.32631313 0.38187932]\n",
      "  warnings.warn(\n"
     ]
    },
    {
     "name": "stdout",
     "output_type": "stream",
     "text": [
      "Best Parameters: {'model__subsample': 0.9, 'model__n_estimators': 500, 'model__min_child_weight': 1, 'model__max_depth': 9, 'model__learning_rate': 0.1, 'model__colsample_bytree': 1.0}\n"
     ]
    }
   ],
   "source": [
    "from sklearn.model_selection import RandomizedSearchCV\n",
    "\n",
    "# Define hyperparameter grid\n",
    "param_grid = {\n",
    "    'model__n_estimators': [100, 200, 500],\n",
    "    'model__learning_rate': [0.01, 0.05, 0.1],\n",
    "    'model__max_depth': [3, 6, 9],\n",
    "    'model__min_child_weight': [1, 3, 5],\n",
    "    'model__subsample': [0.7, 0.9, 1.0],\n",
    "    'model__colsample_bytree': [0.7, 0.9, 1.0],\n",
    "}\n",
    "\n",
    "# Perform randomized search\n",
    "random_search = RandomizedSearchCV(\n",
    "    pipeline, param_grid, n_iter=20, cv=3, scoring='r2', random_state=42, n_jobs=-1\n",
    ")\n",
    "\n",
    "# Split data into training and testing sets\n",
    "from sklearn.model_selection import train_test_split\n",
    "X_train, X_test, y_train, y_test = train_test_split(X, y, test_size=0.2, random_state=42)\n",
    "\n",
    "# Fit the RandomizedSearchCV\n",
    "random_search.fit(X_train, y_train)\n",
    "\n",
    "# Best parameters\n",
    "print(\"Best Parameters:\", random_search.best_params_)\n"
   ]
  },
  {
   "cell_type": "markdown",
   "metadata": {},
   "source": [
    "## Evaluate the Tuned Model"
   ]
  },
  {
   "cell_type": "code",
   "execution_count": 8,
   "metadata": {},
   "outputs": [
    {
     "name": "stdout",
     "output_type": "stream",
     "text": [
      "Tuned XGBoost Model Performance:\n",
      "MAE: 28.80\n",
      "RMSE: 37.74\n",
      "R² (Accuracy): 0.50\n"
     ]
    }
   ],
   "source": [
    "from sklearn.metrics import mean_absolute_error, mean_squared_error, r2_score\n",
    "import numpy as np\n",
    "\n",
    "# Make predictions using the best estimator\n",
    "best_model = random_search.best_estimator_\n",
    "y_pred = best_model.predict(X_test)\n",
    "\n",
    "# Evaluate the model\n",
    "mae = mean_absolute_error(y_test, y_pred)\n",
    "rmse = np.sqrt(mean_squared_error(y_test, y_pred))\n",
    "r2 = r2_score(y_test, y_pred)\n",
    "\n",
    "print(f\"Tuned XGBoost Model Performance:\\nMAE: {mae:.2f}\\nRMSE: {rmse:.2f}\\nR² (Accuracy): {r2:.2f}\")\n"
   ]
  },
  {
   "cell_type": "code",
   "execution_count": 9,
   "metadata": {},
   "outputs": [
    {
     "data": {
      "text/plain": [
       "<Figure size 1000x600 with 0 Axes>"
      ]
     },
     "metadata": {},
     "output_type": "display_data"
    },
    {
     "data": {
      "image/png": "[encoded data removed]",
      "text/plain": [
       "<Figure size 640x480 with 1 Axes>"
      ]
     },
     "metadata": {},
     "output_type": "display_data"
    }
   ],
   "source": [
    "import matplotlib.pyplot as plt\n",
    "\n",
    "# Extract the trained XGBoost model from the pipeline\n",
    "model = best_model.named_steps['model']\n",
    "\n",
    "# Plot feature importance\n",
    "plt.figure(figsize=(10, 6))\n",
    "xgb.plot_importance(model, max_num_features=10)\n",
    "plt.title('Top 10 Feature Importances')\n",
    "plt.show()\n"
   ]
  },
  {
   "cell_type": "code",
   "execution_count": null,
   "metadata": {},
   "outputs": [],
   "source": []
  }
 ],
 "metadata": {
  "kernelspec": {
   "display_name": "Python 3",
   "language": "python",
   "name": "python3"
  },
  "language_info": {
   "codemirror_mode": {
    "name": "ipython",
    "version": 3
   },
   "file_extension": ".py",
   "mimetype": "text/x-python",
   "name": "python",
   "nbconvert_exporter": "python",
   "pygments_lexer": "ipython3",
   "version": "3.11.4"
  }
 },
 "nbformat": 4,
 "nbformat_minor": 2
}
