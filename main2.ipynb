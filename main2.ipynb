{
 "cells": [
  {
   "cell_type": "code",
   "execution_count": null,
   "metadata": {
    "vscode": {
     "languageId": "plaintext"
    }
   },
   "outputs": [],
   "source": [
    "from sklearn.model_selection import train_test_split\n",
    "from sklearn.preprocessing import OneHotEncoder\n",
    "from sklearn.compose import ColumnTransformer\n",
    "from sklearn.pipeline import Pipeline\n",
    "from sklearn.impute import SimpleImputer\n",
    "from sklearn.metrics import mean_absolute_error, mean_squared_error, r2_score\n",
    "import xgboost as xgb\n",
    "import numpy as np\n",
    "import pandas as pd"
   ]
  },
  {
   "cell_type": "code",
   "execution_count": null,
   "metadata": {
    "vscode": {
     "languageId": "plaintext"
    }
   },
   "outputs": [],
   "source": [
    "from sklearn.preprocessing import FunctionTransformer\n",
    "# Load the dataset\n",
    "df = pd.read_csv('store_data.csv')\n",
    "# Group low-frequency cities into an \"Other\" category\n",
    "top_cities = df_cleaned['city'].value_counts().nlargest(50).index  # Keep top 50 cities\n",
    "df_cleaned['city'] = df_cleaned['city'].apply(lambda x: x if x in top_cities else 'Other')\n",
    "\n",
    "# Proceed with the pipeline\n",
    "selected_features = ['store_area', 'footfall', 'avg_temperature', 'city', \n",
    "                     'precipitation_mm', 'air_pressure_hpa', 'wind_speed_kmh']\n",
    "\n",
    "# Extract the relevant features and target\n",
    "X = df_cleaned[selected_features]\n",
    "y = df_cleaned['turnover']\n",
    "\n",
    "# Preprocessing: Handle missing values and encode categorical features\n",
    "preprocessor = ColumnTransformer(\n",
    "    transformers=[\n",
    "        ('num', SimpleImputer(strategy='mean'), ['store_area', 'footfall', 'avg_temperature', \n",
    "                                                 'precipitation_mm', 'air_pressure_hpa', \n",
    "                                                 'wind_speed_kmh']),\n",
    "        ('cat', OneHotEncoder(handle_unknown='ignore', sparse=True), ['city'])\n",
    "    ]\n",
    ")\n",
    "\n",
    "# Define the XGBoost model\n",
    "xgboost_model = xgb.XGBRegressor(random_state=42, n_estimators=100, learning_rate=0.1, max_depth=6)\n",
    "\n",
    "# Create the pipeline\n",
    "pipeline = Pipeline(steps=[\n",
    "    ('preprocessor', preprocessor),\n",
    "    ('model', xgboost_model)\n",
    "])\n",
    "\n",
    "# Split the data into training and testing sets\n",
    "X_train, X_test, y_train, y_test = train_test_split(X, y, test_size=0.2, random_state=42)\n",
    "\n",
    "# Train the model\n",
    "pipeline.fit(X_train, y_train)\n",
    "\n",
    "# Make predictions\n",
    "y_pred = pipeline.predict(X_test)\n",
    "\n",
    "# Evaluate the model\n",
    "mae = mean_absolute_error(y_test, y_pred)\n",
    "rmse = np.sqrt(mean_squared_error(y_test, y_pred))\n",
    "r2 = r2_score(y_test, y_pred)\n",
    "\n",
    "# Print evaluation metrics\n",
    "print(f\"XGBoost Model Performance:\\nMAE: {mae:.2f}\\nRMSE: {rmse:.2f}\\nR² (Accuracy): {r2:.2f}\")\n"
   ]
  }
 ],
 "metadata": {
  "language_info": {
   "name": "python"
  }
 },
 "nbformat": 4,
 "nbformat_minor": 2
}
